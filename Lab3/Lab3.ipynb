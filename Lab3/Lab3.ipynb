{
 "cells": [
  {
   "cell_type": "code",
   "execution_count": 1,
   "metadata": {},
   "outputs": [],
   "source": [
    "import numpy as np\n",
    "import math"
   ]
  },
  {
   "cell_type": "code",
   "execution_count": 2,
   "metadata": {},
   "outputs": [],
   "source": [
    "def agh_superfast_matrix_multiply(a: np.matrix, b: np.matrix) -> np.matrix:\n",
    "    \"\"\"Perform totally ordinary multiplication of matrices.\n",
    "    \n",
    "    :param a: matrix with dimensions x by y\n",
    "    :param b: matrix with dimensions y by z\n",
    "    :return:  matrix with dimensions x by z\n",
    "    \"\"\"\n",
    "    x, y1 = a.shape\n",
    "    y2, z = b.shape\n",
    "    \n",
    "    if y1 != y2:\n",
    "        raise ValueError('Shapes of matrices is incorrect')\n",
    "    \n",
    "    y = y1\n",
    "    result = np.empty((x, z))\n",
    "    \n",
    "    for row in range(x):\n",
    "        for col in range(z):\n",
    "            dot_product = 0\n",
    "            for i in range(y):\n",
    "                dot_product += a.item((row,i))*b.item((i,col))\n",
    "            result[row,col] = dot_product\n",
    "    return result\n",
    "\n",
    "m1 = np.matrix([[1, 2],\n",
    "                [3, 4],\n",
    "                [4, 5],\n",
    "                [5, 1]])\n",
    "\n",
    "m2 = np.matrix([[1, 2, 3],\n",
    "                [4, 5, 6]])\n",
    "\n",
    "agh_superfast_matrix_multiply(m1, m2)\n",
    "res = m1 * m2\n",
    "assert np.allclose(res, m1 * m2), \"Wrong multiplication result\""
   ]
  },
  {
   "cell_type": "code",
   "execution_count": 3,
   "metadata": {},
   "outputs": [],
   "source": [
    "def gauss_jordan_elimination(A: np.matrix, b: np.matrix) -> np.matrix:\n",
    "    \"\"\"Perform gauss jordan elimination for A*x = b problem.\n",
    "    \n",
    "    :param A: coefficients matrix with dimensions x by y\n",
    "    :param b: right hand side column vector with dimensions y \n",
    "    \"\"\"\n",
    "    \n",
    "    x,y = A.shape\n",
    "        \n",
    "    for col in range(x):\n",
    "        for row in range(col+1, y):\n",
    "            scalar = A[row, col]/A[col, col]\n",
    "            for i in range(col, x):\n",
    "                A[row, i] -= scalar * A[col, i]\n",
    "            b[row] -= scalar*b[col]\n",
    "            \n",
    "    for col in range(x-1, -1, -1):\n",
    "        for row in range(col-1, -1, -1):\n",
    "            scalar = A[row, col]/A[col,col]\n",
    "            A[row,col] = 0\n",
    "            b[row] -= scalar* b[col]\n",
    "            \n",
    "    for row in range(y):\n",
    "        b[row] = b[row]/A[row, row]\n",
    "        \n",
    "    return b"
   ]
  },
  {
   "cell_type": "code",
   "execution_count": 4,
   "metadata": {},
   "outputs": [],
   "source": [
    "def gauss_jordan_elimination_with_pivoting(A: np.matrix, b: np.matrix) -> np.matrix:\n",
    "    \"\"\"Perform gauss jordan elimination for A*x = b problem, using pivoting.\n",
    "    \n",
    "    :param A: coefficients matrix with dimensions x by y\n",
    "    :param b: right hand side column vector with dimensions y \n",
    "    \"\"\"\n",
    "    x,y = A.shape\n",
    "            \n",
    "    for col in range(x):\n",
    "        #Find pivot\n",
    "        pivot = col\n",
    "        for row in range(col+1, y):\n",
    "            if(abs(A[row, col]) > abs(A[pivot, col])):\n",
    "                pivot = row\n",
    "        # swap\n",
    "        A[col, :], b[col], A[pivot, :], b[pivot] = A[pivot, :], b[pivot], A[col, :].copy(), b[col].copy()\n",
    "\n",
    "        for row in range(col+1, y):\n",
    "            scalar = A[row, col]/A[col, col]\n",
    "            for i in range(col, x):\n",
    "                A[row, i] -= scalar * A[col, i]\n",
    "            b[row] -= scalar*b[col]\n",
    "            \n",
    "    for col in range(x-1, -1, -1):\n",
    "        for row in range(col-1, -1, -1):\n",
    "            scalar = A[row, col]/A[col,col]\n",
    "            A[row,col] = 0\n",
    "            b[row] -= scalar* b[col]\n",
    "            \n",
    "    for row in range(y):\n",
    "        b[row] = b[row]/A[row, row]\n",
    "        \n",
    "    return b"
   ]
  },
  {
   "cell_type": "code",
   "execution_count": 5,
   "metadata": {},
   "outputs": [
    {
     "data": {
      "text/plain": [
       "(True, True)"
      ]
     },
     "execution_count": 5,
     "metadata": {},
     "output_type": "execute_result"
    }
   ],
   "source": [
    "A = np.matrix([[0.0001, -5.0300, 5.8090, 7.8320],\n",
    "               [2.2660, 1.9950,  1.2120, 8.0080],\n",
    "               [8.8500, 5.6810,  4.5520, 1.3020],\n",
    "               [6.7750, -2.253,  2.9080, 3.9700]])\n",
    "\n",
    "b = np.matrix([9.5740, 7.2190, 5.7300, 6.2910]).transpose()\n",
    "x1 = np.linalg.solve(A, b)\n",
    "x2 = gauss_jordan_elimination_with_pivoting(A.copy(), b.copy())\n",
    "x3 = gauss_jordan_elimination(A, b)\n",
    "np.allclose(x1, x2), np.allclose(x1, x3)"
   ]
  },
  {
   "cell_type": "code",
   "execution_count": 6,
   "metadata": {},
   "outputs": [
    {
     "data": {
      "text/plain": [
       "(matrix([[-3.88808430e-12],\n",
       "         [ 4.53486207e-13],\n",
       "         [-4.53859172e-12],\n",
       "         [ 3.65774078e-12]]), matrix([[-3.88783450e-12],\n",
       "         [ 4.53350898e-13],\n",
       "         [-4.53892479e-12],\n",
       "         [ 3.65774078e-12]]))"
      ]
     },
     "execution_count": 6,
     "metadata": {},
     "output_type": "execute_result"
    }
   ],
   "source": [
    "x3 - x1, x3 - x2"
   ]
  },
  {
   "cell_type": "code",
   "execution_count": 7,
   "metadata": {},
   "outputs": [
    {
     "data": {
      "text/plain": [
       "True"
      ]
     },
     "execution_count": 7,
     "metadata": {},
     "output_type": "execute_result"
    }
   ],
   "source": [
    "def agh_superfast_lu(a: np.matrix) -> (np.matrix, np.matrix):\n",
    "    \"\"\"Perform LU decomposition of a matrix.\n",
    "    \n",
    "    :param a: _\n",
    "    :return:  _\n",
    "    \"\"\"\n",
    "    x, y = a.shape\n",
    "    if(x != y):\n",
    "        raise ValueError('Shapes of matrix is incorrect')\n",
    "    lower, upper = np.zeros((x, x)), np.zeros((x, x))\n",
    "    \n",
    "    for i in range(x):\n",
    "        for k in range(i, x):\n",
    "            sum_tmp = sum(lower[i, j] * upper[j, k] for j in range(i))\n",
    "            upper[i, k] = a[i, k] - sum_tmp;\n",
    "            \n",
    "        for k in range(i, x):\n",
    "            if(i == k): \n",
    "                lower[i, i] = 1\n",
    "            else:\n",
    "                sum_tmp = sum(lower[k, j] * upper[j, i] for j in range(i))\n",
    "                lower[k, i] = (a[k, i] - sum_tmp) / upper[i][i];\n",
    "    return (lower, upper)\n",
    "a = np.matrix([[3, -5, 5, 7],\n",
    "               [2, 1,  1.2, 8],\n",
    "               [8, 5,  4, 1],\n",
    "               [6, -2,  2, 3]])  \n",
    "(l, u) = agh_superfast_lu(a)\n",
    "np.allclose(np.dot(l, u), a)"
   ]
  },
  {
   "cell_type": "code",
   "execution_count": 8,
   "metadata": {},
   "outputs": [
    {
     "data": {
      "text/plain": [
       "True"
      ]
     },
     "execution_count": 8,
     "metadata": {},
     "output_type": "execute_result"
    }
   ],
   "source": [
    "def agh_superfast_check_spd(a: np.matrix) -> bool:\n",
    "    \"\"\"Check whether a matrix is symmetric and positive-definite (SPD).\n",
    "    \n",
    "    :param a: _\n",
    "    \"\"\"\n",
    "    if np.allclose(a.transpose(),a) and np.all(np.linalg.eigvals(a)>0): \n",
    "        return True\n",
    "    else:\n",
    "        return False\n",
    "    \n",
    "a = np.matrix([[4, 12, -16],\n",
    "               [12, 37,  -43],\n",
    "               [-16, -43,  97]])\n",
    "\n",
    "agh_superfast_check_spd(a)"
   ]
  },
  {
   "cell_type": "code",
   "execution_count": 9,
   "metadata": {},
   "outputs": [
    {
     "data": {
      "text/plain": [
       "True"
      ]
     },
     "execution_count": 9,
     "metadata": {},
     "output_type": "execute_result"
    }
   ],
   "source": [
    "def agh_superfast_cholesky(a: np.matrix) -> np.matrix:\n",
    "    \"\"\"Perform a Cholesky decomposition of a matrix.\n",
    "    \n",
    "    :param a: _\n",
    "    :return:  _\n",
    "    \"\"\"\n",
    "    if not agh_superfast_check_spd(a):\n",
    "        raise ValueError('Matrix must be SPD')\n",
    "    \n",
    "    x, y = a.shape\n",
    "    if(x != y):\n",
    "        raise ValueError('Shapes of matrix is incorrect')\n",
    "        \n",
    "    L = np.zeros((x, x))\n",
    "    for i in range(x):\n",
    "        for k in range(i+1):\n",
    "            sum_tmp = sum(L[i, j] * L[k, j] for j in range(k))\n",
    "            \n",
    "            if(k == i):\n",
    "                L[i, k] = math.sqrt(a[i, i] - sum_tmp)\n",
    "            else:\n",
    "                L[i, k] = (1.0 / L[k, k] * (a[i, k] - sum_tmp))\n",
    "    return L\n",
    "a = np.matrix([[4, 12, -16],\n",
    "               [12, 37,  -43],\n",
    "               [-16, -43,  97]])\n",
    "L = agh_superfast_cholesky(a)\n",
    "np.allclose(a, np.dot(L, L.conj().transpose()))"
   ]
  },
  {
   "cell_type": "code",
   "execution_count": null,
   "metadata": {},
   "outputs": [],
   "source": []
  }
 ],
 "metadata": {
  "kernelspec": {
   "display_name": "Python 3",
   "language": "python",
   "name": "python3"
  },
  "language_info": {
   "codemirror_mode": {
    "name": "ipython",
    "version": 3
   },
   "file_extension": ".py",
   "mimetype": "text/x-python",
   "name": "python",
   "nbconvert_exporter": "python",
   "pygments_lexer": "ipython3",
   "version": "3.5.2"
  }
 },
 "nbformat": 4,
 "nbformat_minor": 2
}
