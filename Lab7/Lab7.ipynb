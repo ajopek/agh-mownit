{
 "cells": [
  {
   "cell_type": "code",
   "execution_count": 8,
   "metadata": {},
   "outputs": [],
   "source": [
    "import numpy as np\n",
    "import matplotlib.pyplot as plt"
   ]
  },
  {
   "cell_type": "code",
   "execution_count": 2,
   "metadata": {},
   "outputs": [
    {
     "name": "stdout",
     "output_type": "stream",
     "text": [
      "2.0\n"
     ]
    }
   ],
   "source": [
    "def newton_raphson(a, b, fun):\n",
    "    x = a\n",
    "    if (fun(x) * fun(b) >= 0):\n",
    "        raise ValueError(\"f(a) * f(b) must be < 0\")\n",
    "    while (fun(x) != 0):\n",
    "        h = 0.001\n",
    "        d = (fun(x + h) - fun(x)) / h\n",
    "        x = x - fun(x) / d\n",
    "    return x\n",
    "\n",
    "def f(x): \n",
    "    return x**2 - 4\n",
    "print(newton_raphson(0, 3, f))"
   ]
  },
  {
   "cell_type": "code",
   "execution_count": 119,
   "metadata": {},
   "outputs": [],
   "source": [
    "def plot_error(A, b, fun):\n",
    "    sol = np.linalg.solve(A, b).transpose()\n",
    "    plt.plot(list(range(30)), [np.mean(abs(sol - fun(A, b, i))) for i in range(30)])"
   ]
  },
  {
   "cell_type": "code",
   "execution_count": 129,
   "metadata": {},
   "outputs": [],
   "source": [
    "def agh_superfast_jacobi(A: np.matrix, b: np.matrix, iterations: int=1000) -> np.matrix:    \n",
    "    n = A.shape[0]\n",
    "    x = np.zeros(n)\n",
    "    for iteration in range(iterations):\n",
    "        x1 = np.zeros(n)\n",
    "        for i in range(n):\n",
    "            sum = 0\n",
    "            for j in range(n):\n",
    "                if j != i:\n",
    "                    sum = sum + A[i, j] * x[j]\n",
    "            x1[i] = (1 / A[i, i]) * (b[i] - sum)\n",
    "        x = x1\n",
    "    return x"
   ]
  },
  {
   "cell_type": "code",
   "execution_count": 137,
   "metadata": {},
   "outputs": [
    {
     "data": {
      "image/png": "[encoded data removed]",
      "text/plain": [
       "<matplotlib.figure.Figure at 0x7f4f11ebfc50>"
      ]
     },
     "metadata": {},
     "output_type": "display_data"
    }
   ],
   "source": [
    "A = np.matrix([[22, 11], [55, 77]])\n",
    "b = np.matrix([11, 13]).transpose()\n",
    "plot_error(A, b, agh_superfast_jacobi)"
   ]
  },
  {
   "cell_type": "code",
   "execution_count": 140,
   "metadata": {},
   "outputs": [
    {
     "data": {
      "image/png": "[encoded data removed]",
      "text/plain": [
       "<matplotlib.figure.Figure at 0x7f4f11fdc9e8>"
      ]
     },
     "metadata": {},
     "output_type": "display_data"
    }
   ],
   "source": [
    "A = np.array([[20.0, -2.0, 4.0, 0.0],\n",
    "              [-2.0, 22.0, -2.0, 6.0],\n",
    "              [8.0, -5.0, 20.0, -2.0],\n",
    "              [0.0, 6.0, -2.0, 16.0]])\n",
    "b = np.array([6.0, 25.0, -11.0, 15.0]).transpose()\n",
    "plot_error(A, b, agh_superfast_jacobi)"
   ]
  },
  {
   "cell_type": "code",
   "execution_count": 131,
   "metadata": {},
   "outputs": [],
   "source": [
    "def agh_superfast_gs(A: np.matrix, b: np.matrix, iterations: int=1000) -> np.matrix:\n",
    "    n = A.shape[0]\n",
    "    x = np.zeros(n)\n",
    "    for iteration in range(iterations):\n",
    "        x1 = np.zeros(n)\n",
    "        for i in range(n):\n",
    "            sumL = 0\n",
    "            sumU = 0\n",
    "            for j in range(0, i):\n",
    "                sumL = sumL + A[i,j] * x1[j]\n",
    "            for j in range(i+1, n):\n",
    "                sumU = sumU + A[i,j] * x[j]\n",
    "            x1[i] = (1 / A[i,i]) * (b[i] - sumL - sumU)\n",
    "        x = x1\n",
    "    return x"
   ]
  },
  {
   "cell_type": "code",
   "execution_count": 132,
   "metadata": {},
   "outputs": [
    {
     "data": {
      "image/png": "[encoded data removed]",
      "text/plain": [
       "<matplotlib.figure.Figure at 0x7f4f11d79eb8>"
      ]
     },
     "metadata": {},
     "output_type": "display_data"
    }
   ],
   "source": [
    "A = np.matrix([[22, 11], [55, 77]])\n",
    "b = np.matrix([11, 13]).transpose()\n",
    "plot_error(A, b, agh_superfast_gs)"
   ]
  },
  {
   "cell_type": "code",
   "execution_count": 141,
   "metadata": {},
   "outputs": [
    {
     "data": {
      "image/png": "[encoded data removed]",
      "text/plain": [
       "<matplotlib.figure.Figure at 0x7f4f11f330f0>"
      ]
     },
     "metadata": {},
     "output_type": "display_data"
    }
   ],
   "source": [
    "A = np.array([[20.0, -2.0, 4.0, 0.0],\n",
    "              [-2.0, 22.0, -2.0, 6.0],\n",
    "              [8.0, -5.0, 20.0, -2.0],\n",
    "              [0.0, 6.0, -2.0, 16.0]])\n",
    "b = np.array([6.0, 25.0, -11.0, 15.0]).transpose()\n",
    "plot_error(A, b, agh_superfast_gs)"
   ]
  },
  {
   "cell_type": "code",
   "execution_count": 133,
   "metadata": {},
   "outputs": [],
   "source": [
    "def agh_superfast_sor(A: np.matrix, b: np.matrix, iterations: int=1000) -> np.matrix:\n",
    "    n = A.shape[0]\n",
    "    x = np.zeros(n)\n",
    "    omega = 1.22\n",
    "    for iteration in range(iterations):\n",
    "        x1 = np.zeros(n)\n",
    "        for i in range(n):\n",
    "            sumL = 0\n",
    "            sumU = 0\n",
    "            for j in range(0, i):\n",
    "                sumL = sumL + A[i,j] * x1[j]\n",
    "            for j in range(i+1, n):\n",
    "                sumU = sumU + A[i,j] * x[j]\n",
    "            x1[i] = (1 - omega) * x[i] + (omega / A[i,i]) * (b[i] - sumL - sumU)\n",
    "        x = x1\n",
    "    return x"
   ]
  },
  {
   "cell_type": "code",
   "execution_count": 138,
   "metadata": {},
   "outputs": [
    {
     "data": {
      "image/png": "[encoded data removed]",
      "text/plain": [
       "<matplotlib.figure.Figure at 0x7f4f120479b0>"
      ]
     },
     "metadata": {},
     "output_type": "display_data"
    }
   ],
   "source": [
    "A = np.matrix([[22, 11], [55, 77]])\n",
    "b = np.matrix([11, 13]).transpose()\n",
    "plot_error(A, b, agh_superfast_sor)"
   ]
  },
  {
   "cell_type": "code",
   "execution_count": 142,
   "metadata": {},
   "outputs": [
    {
     "data": {
      "image/png": "[encoded data removed]",
      "text/plain": [
       "<matplotlib.figure.Figure at 0x7f4f11fe7b00>"
      ]
     },
     "metadata": {},
     "output_type": "display_data"
    }
   ],
   "source": [
    "A = np.array([[20.0, -2.0, 4.0, 0.0],\n",
    "              [-2.0, 22.0, -2.0, 6.0],\n",
    "              [8.0, -5.0, 20.0, -2.0],\n",
    "              [0.0, 6.0, -2.0, 16.0]])\n",
    "b = np.array([6.0, 25.0, -11.0, 15.0]).transpose()\n",
    "plot_error(A, b, agh_superfast_sor)"
   ]
  }
 ],
 "metadata": {
  "kernelspec": {
   "display_name": "Python 3",
   "language": "python",
   "name": "python3"
  },
  "language_info": {
   "codemirror_mode": {
    "name": "ipython",
    "version": 3
   },
   "file_extension": ".py",
   "mimetype": "text/x-python",
   "name": "python",
   "nbconvert_exporter": "python",
   "pygments_lexer": "ipython3",
   "version": "3.5.2"
  }
 },
 "nbformat": 4,
 "nbformat_minor": 2
}
