{
 "cells": [
  {
   "cell_type": "code",
   "execution_count": 8,
   "metadata": {},
   "outputs": [
    {
     "name": "stderr",
     "output_type": "stream",
     "text": [
      "\u001b[1m\u001b[36mINFO: \u001b[39m\u001b[22m\u001b[36mRecompiling stale cache file /home/artur/.julia/lib/v0.6/Interpolations.ji for module Interpolations.\n",
      "\u001b[39m"
     ]
    }
   ],
   "source": [
    "using Plots\n",
    "using Polynomials\n",
    "using DataFrames\n",
    "using Interpolations"
   ]
  },
  {
   "cell_type": "code",
   "execution_count": 37,
   "metadata": {},
   "outputs": [
    {
     "data": {
      "text/plain": [
       "10-element Array{Float64,1}:\n",
       " 0.0363835\n",
       " 0.920407 \n",
       " 0.898821 \n",
       " 0.572089 \n",
       " 0.411185 \n",
       " 0.174631 \n",
       " 0.147227 \n",
       " 0.740862 \n",
       " 0.201543 \n",
       " 0.148052 "
      ]
     },
     "execution_count": 37,
     "metadata": {},
     "output_type": "execute_result"
    }
   ],
   "source": [
    "# Os X\n",
    "ox = 1:0.02:10\n",
    "# Wezly\n",
    "knots = 1:1:10\n",
    "A = [rand() for x in knots]"
   ]
  },
  {
   "cell_type": "code",
   "execution_count": 38,
   "metadata": {},
   "outputs": [],
   "source": [
    "#Zapisanie do pliku wykresu z węzłami\n",
    "p0 = scatter(xs, A, label=\"data points\")\n",
    "savefig(p0, \"points.png\")"
   ]
  },
  {
   "cell_type": "code",
   "execution_count": 39,
   "metadata": {},
   "outputs": [
    {
     "data": {
      "text/plain": [
       "lagrange_interpolation (generic function with 1 method)"
      ]
     },
     "execution_count": 39,
     "metadata": {},
     "output_type": "execute_result"
    }
   ],
   "source": [
    "# Interpolacja Lagrange'a\n",
    "function lagrange_interpolation(knots, A)   \n",
    "    n = size(A,1)\n",
    "    P = Poly([0])\n",
    "    for i = 1:n\n",
    "        l = Poly([1.0])\n",
    "        # Obliczanie współczynnika L_i\n",
    "        for j = 1:n\n",
    "            if i != j\n",
    "                l = l * poly([knots[j]]) / (knots[i] - knots[j])\n",
    "            end\n",
    "        end            \n",
    "        P += (l * A[i])\n",
    "    end\n",
    "    return P\n",
    "end"
   ]
  },
  {
   "cell_type": "code",
   "execution_count": 46,
   "metadata": {},
   "outputs": [],
   "source": [
    "lagrange = lagrange_interpolation(knots, A)\n",
    "ys = [lagrange(x) for x in ox]\n",
    "p1 = scatter(knots, A, label=\"data points\")\n",
    "plot!(ox, ys, color=:green, label=\"lagrange interpolation\")\n",
    "savefig(p1, \"lagrange.png\")"
   ]
  },
  {
   "cell_type": "code",
   "execution_count": 62,
   "metadata": {},
   "outputs": [
    {
     "data": {
      "text/plain": [
       "newton_interpolation (generic function with 2 methods)"
      ]
     },
     "execution_count": 62,
     "metadata": {},
     "output_type": "execute_result"
    }
   ],
   "source": [
    "# Metoda newtona\n",
    "function newton_interpolation(knots, A, n)\n",
    "    if n == 1\n",
    "        Poly(float(A[1]))\n",
    "    else\n",
    "        q = 1\n",
    "        prev = newton_interpolation(knots, A, n-1)\n",
    "        p = A[n] - polyval(prev, knots[n])\n",
    "        for i = 1:n-1\n",
    "            q = q * (knots[n] - knots[i])\n",
    "        end        \n",
    "        poly([knots[i] for i in 1:n-1]) * (p / q) + prev\n",
    "    end\n",
    "end"
   ]
  },
  {
   "cell_type": "code",
   "execution_count": 66,
   "metadata": {},
   "outputs": [
    {
     "data": {
      "text/plain": [
       "451-element Array{Float64,1}:\n",
       " 0.0363835\n",
       " 0.0366184\n",
       " 0.0368281\n",
       " 0.0370141\n",
       " 0.037178 \n",
       " 0.0373213\n",
       " 0.0374455\n",
       " 0.0375517\n",
       " 0.0376414\n",
       " 0.0377157\n",
       " 0.0377759\n",
       " 0.0378229\n",
       " 0.0378579\n",
       " ⋮        \n",
       " 0.0938321\n",
       " 0.0976508\n",
       " 0.101666 \n",
       " 0.105886 \n",
       " 0.110318 \n",
       " 0.114972 \n",
       " 0.119856 \n",
       " 0.124979 \n",
       " 0.13035  \n",
       " 0.135979 \n",
       " 0.141877 \n",
       " 0.148052 "
      ]
     },
     "execution_count": 66,
     "metadata": {},
     "output_type": "execute_result"
    }
   ],
   "source": [
    "newton = newton_interpolation(knots, A)\n",
    "ys = [newton(x) for x in ox]\n",
    "p2 = scatter(knots, A, label=\"data points\")\n",
    "plot!(ox, ys, color=:red, label=\"newton interpolation\")\n",
    "savefig(p2, \"newton.png\")"
   ]
  },
  {
   "cell_type": "code",
   "execution_count": 64,
   "metadata": {},
   "outputs": [],
   "source": [
    "# Pakiet Polynomials\n",
    "polynom = polyfit(knots, A)\n",
    "ys = [polynom(x) for x in ox]\n",
    "p3 = scatter(knots, A, label=\"data points\")\n",
    "plot!(ox, ys, color=:black, label=\"polyfit interpolation\")\n",
    "savefig(p3, \"polynomial.png\")"
   ]
  },
  {
   "cell_type": "code",
   "execution_count": 70,
   "metadata": {},
   "outputs": [],
   "source": [
    "# Funkcje sklejane\n",
    "cubic = CubicSplineInterpolation(knots, A)\n",
    "\n",
    "cubicy = [cubic(x) for x in ox]\n",
    "lagrangey = [lagrange(x) for x in ox]\n",
    "p5 = scatter(xs, A, label=\"data points\", legend=:topright)\n",
    "plot!(ox, cubicy, color=:green, label=\"cubic spline\")\n",
    "plot!(ox, lagrangey, color=:blue, label=\"newton\")\n",
    "savefig(p5, \"p6.png\")\n"
   ]
  },
  {
   "cell_type": "code",
   "execution_count": 71,
   "metadata": {},
   "outputs": [
    {
     "data": {
      "image/png": "[encoded data removed]"
     },
     "execution_count": 71,
     "metadata": {},
     "output_type": "execute_result"
    }
   ],
   "source": [
    "# Efekt Rungego\n",
    "plot!(dpi = 120, size = (600,400), fmt = :png)"
   ]
  },
  {
   "cell_type": "code",
   "execution_count": null,
   "metadata": {},
   "outputs": [],
   "source": []
  }
 ],
 "metadata": {
  "kernelspec": {
   "display_name": "Julia 0.6.2",
   "language": "julia",
   "name": "julia-0.6"
  },
  "language_info": {
   "file_extension": ".jl",
   "mimetype": "application/julia",
   "name": "julia",
   "version": "0.6.2"
  }
 },
 "nbformat": 4,
 "nbformat_minor": 2
}
