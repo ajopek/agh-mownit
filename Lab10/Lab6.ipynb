{
 "cells": [
  {
   "cell_type": "markdown",
   "metadata": {},
   "source": [
    "Importy"
   ]
  },
  {
   "cell_type": "code",
   "execution_count": 1,
   "metadata": {},
   "outputs": [],
   "source": [
    "import re, os\n",
    "from collections import Counter\n",
    "import numpy as np\n",
    "from numpy import linalg as LA\n",
    "from heapq import nlargest"
   ]
  },
  {
   "cell_type": "markdown",
   "metadata": {},
   "source": [
    "Wczytanie tekstu - 1144 artykułów z wikipedii"
   ]
  },
  {
   "cell_type": "code",
   "execution_count": 2,
   "metadata": {},
   "outputs": [
    {
     "data": {
      "text/plain": [
       "1144"
      ]
     },
     "execution_count": 2,
     "metadata": {},
     "output_type": "execute_result"
    }
   ],
   "source": [
    "documents = [[] for i in range(1144)]\n",
    "bag_of_words = set()\n",
    "\n",
    "i = 0\n",
    "for filename in os.listdir('text'):\n",
    "    with open(os.path.join('text', filename)) as file:\n",
    "        for line in file:\n",
    "            wordList = list(map(lambda x: x.lower(), line.split()))\n",
    "            documents[i] += wordList\n",
    "            bag_of_words |= set(wordList)\n",
    "    i += 1\n",
    "len(documents)"
   ]
  },
  {
   "cell_type": "markdown",
   "metadata": {},
   "source": [
    "Częstości słów"
   ]
  },
  {
   "cell_type": "code",
   "execution_count": 3,
   "metadata": {},
   "outputs": [],
   "source": [
    "word_frequency = []\n",
    "\n",
    "for doc in documents:\n",
    "    words_dict = dict.fromkeys(bag_of_words,0)\n",
    "    for word in doc:\n",
    "        words_dict.update({word:words_dict.get(word)+1})\n",
    "    word_frequency.append(words_dict)"
   ]
  },
  {
   "cell_type": "markdown",
   "metadata": {},
   "source": [
    "Słownik wystąpień słów w dokumentach"
   ]
  },
  {
   "cell_type": "code",
   "execution_count": 4,
   "metadata": {},
   "outputs": [],
   "source": [
    "def get_term_by_document_matrix():\n",
    "    words_num = len(bag_of_words)\n",
    "    term_by_document_matrix = np.zeros((words_num,1144))\n",
    "    words_list = list(bag_of_words)\n",
    "\n",
    "    for i in range(1144):\n",
    "        for index,word in enumerate(words_list):\n",
    "            term_by_document_matrix[index,i] = word_frequency[i].get(word)\n",
    "            \n",
    "    return term_by_document_matrix\n",
    "            \n",
    "term_by_document_matrix = get_term_by_document_matrix()"
   ]
  },
  {
   "cell_type": "markdown",
   "metadata": {},
   "source": [
    "Inverse Document Frequency Vector"
   ]
  },
  {
   "cell_type": "code",
   "execution_count": 5,
   "metadata": {},
   "outputs": [],
   "source": [
    "idf_vector = []\n",
    "\n",
    "N = 1144\n",
    "for index,word in enumerate(list(bag_of_words)):\n",
    "    words_number = 0\n",
    "    for i in range(N):\n",
    "        if(term_by_document_matrix[index,i] > 0):\n",
    "            words_number += 1\n",
    "    if(words_number != 0):\n",
    "        idf_vector.append(np.log10(N/words_number))\n"
   ]
  },
  {
   "cell_type": "markdown",
   "metadata": {},
   "source": [
    "Miara podobieństwa frazy z dokumentami"
   ]
  },
  {
   "cell_type": "code",
   "execution_count": 6,
   "metadata": {},
   "outputs": [],
   "source": [
    "def similarity_metric(sentence, veclen):\n",
    "    query = map(lambda x: x.lower(), sentence.split())\n",
    "    \n",
    "    query_bag_of_words = dict.fromkeys(bag_of_words,0)\n",
    "    for word in query:\n",
    "        if(word in bag_of_words):\n",
    "            query_bag_of_words.update({word:query_bag_of_words.get(word)+1})\n",
    "    \n",
    "    q = []\n",
    "    for index,word in enumerate(list(bag_of_words)):\n",
    "        q.append(query_bag_of_words.get(word))\n",
    "    \n",
    "    similarity_rate = {}\n",
    "    for i in range(1144):\n",
    "        dj = term_by_document_matrix[:,[i]]\n",
    "        q_norm = LA.norm(q)\n",
    "        dj_norm = LA.norm(dj)\n",
    "        cosj = np.dot(q,dj)/(q_norm*dj_norm)\n",
    "        similarity_rate.update({i:cosj})\n",
    "        \n",
    "    return nlargest(veclen, similarity_rate, key=similarity_rate.get)"
   ]
  },
  {
   "cell_type": "markdown",
   "metadata": {},
   "source": [
    "Teraz sprawdźmy jak to działa"
   ]
  },
  {
   "cell_type": "code",
   "execution_count": 7,
   "metadata": {},
   "outputs": [
    {
     "data": {
      "text/plain": [
       "[917,\n",
       " 355,\n",
       " 850,\n",
       " 688,\n",
       " 731,\n",
       " 781,\n",
       " 198,\n",
       " 553,\n",
       " 311,\n",
       " 55,\n",
       " 654,\n",
       " 789,\n",
       " 872,\n",
       " 1018,\n",
       " 572,\n",
       " 777,\n",
       " 706,\n",
       " 1120,\n",
       " 10,\n",
       " 226]"
      ]
     },
     "execution_count": 7,
     "metadata": {},
     "output_type": "execute_result"
    }
   ],
   "source": [
    "sentence = \"politician cat man\"\n",
    "similarity_metric(sentence,20)"
   ]
  },
  {
   "cell_type": "markdown",
   "metadata": {},
   "source": [
    "Wynik po odszumianiu przez SVD i low rank aproximation"
   ]
  },
  {
   "cell_type": "code",
   "execution_count": 8,
   "metadata": {},
   "outputs": [
    {
     "data": {
      "text/plain": [
       "[917,\n",
       " 355,\n",
       " 850,\n",
       " 688,\n",
       " 731,\n",
       " 781,\n",
       " 198,\n",
       " 553,\n",
       " 311,\n",
       " 55,\n",
       " 654,\n",
       " 789,\n",
       " 872,\n",
       " 1018,\n",
       " 572,\n",
       " 777,\n",
       " 706,\n",
       " 1120,\n",
       " 10,\n",
       " 226]"
      ]
     },
     "execution_count": 8,
     "metadata": {},
     "output_type": "execute_result"
    }
   ],
   "source": [
    "U, s, V = np.linalg.svd(term_by_document_matrix, full_matrices=False)\n",
    "S = np.diag(s)\n",
    "term_by_document_matrix = np.dot(U, np.dot(S, V))\n",
    "\n",
    "similarity_metric(sentence,20)"
   ]
  },
  {
   "cell_type": "markdown",
   "metadata": {},
   "source": [
    "Jak widać odszumianie nie zmieniło wynikiów."
   ]
  },
  {
   "cell_type": "markdown",
   "metadata": {},
   "source": [
    "Usuwamy efekty SVD, przystępujemy do testów zastosowania Inveres Document Frequency"
   ]
  },
  {
   "cell_type": "markdown",
   "metadata": {},
   "source": [
    "Mnożymy wystąpienia słów przez idf, ponownie wyszukujemy dokumentów podobnych"
   ]
  },
  {
   "cell_type": "code",
   "execution_count": 10,
   "metadata": {},
   "outputs": [],
   "source": [
    "term_by_document_matrix = get_term_by_document_matrix()\n",
    "for i in range(1000):\n",
    "    for j in range(len(idf_vector)):\n",
    "        term_by_document_matrix[j,i] *= idf_vector[j]\n",
    "      \n",
    "after_IDF = similarity_metric(sentence,20)"
   ]
  },
  {
   "cell_type": "markdown",
   "metadata": {},
   "source": [
    "Jak widać różnica przed i po zastosowaniu IDF jest znacząca:"
   ]
  },
  {
   "cell_type": "code",
   "execution_count": 11,
   "metadata": {},
   "outputs": [
    {
     "name": "stdout",
     "output_type": "stream",
     "text": [
      "[917, 850, 731, 553, 972, 10, 355, 960, 478, 766, 69, 262, 448, 545, 688, 450, 885, 883, 45, 894]\n"
     ]
    }
   ],
   "source": [
    "print(after_IDF)"
   ]
  },
  {
   "cell_type": "markdown",
   "metadata": {},
   "source": [
    "Na koniec test SVG i IDF razem:"
   ]
  },
  {
   "cell_type": "code",
   "execution_count": 12,
   "metadata": {},
   "outputs": [
    {
     "data": {
      "text/plain": [
       "[917,\n",
       " 850,\n",
       " 731,\n",
       " 553,\n",
       " 972,\n",
       " 10,\n",
       " 355,\n",
       " 960,\n",
       " 478,\n",
       " 766,\n",
       " 69,\n",
       " 262,\n",
       " 448,\n",
       " 545,\n",
       " 688,\n",
       " 450,\n",
       " 885,\n",
       " 883,\n",
       " 45,\n",
       " 894]"
      ]
     },
     "execution_count": 12,
     "metadata": {},
     "output_type": "execute_result"
    }
   ],
   "source": [
    "U, s, V = np.linalg.svd(term_by_document_matrix, full_matrices=False)\n",
    "S = np.diag(s)\n",
    "term_by_document_matrix = np.dot(U, np.dot(S, V))\n",
    "\n",
    "similarity_metric(sentence,20)"
   ]
  },
  {
   "cell_type": "markdown",
   "metadata": {},
   "source": [
    "Jak widać, IDF znacząco wpłynęło na wyniki, SVD przed i po IDF nie miało większego wpływu na wyniki w tym przypadku."
   ]
  }
 ],
 "metadata": {
  "kernelspec": {
   "display_name": "Python 3",
   "language": "python",
   "name": "python3"
  },
  "language_info": {
   "codemirror_mode": {
    "name": "ipython",
    "version": 3
   },
   "file_extension": ".py",
   "mimetype": "text/x-python",
   "name": "python",
   "nbconvert_exporter": "python",
   "pygments_lexer": "ipython3",
   "version": "3.5.2"
  }
 },
 "nbformat": 4,
 "nbformat_minor": 2
}
